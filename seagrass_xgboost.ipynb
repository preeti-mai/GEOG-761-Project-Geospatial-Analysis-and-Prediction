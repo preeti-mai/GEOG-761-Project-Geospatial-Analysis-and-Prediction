{
  "nbformat": 4,
  "nbformat_minor": 0,
  "metadata": {
    "colab": {
      "provenance": []
    },
    "kernelspec": {
      "name": "python3",
      "display_name": "Python 3"
    },
    "language_info": {
      "name": "python"
    }
  },
  "cells": [
    {
      "cell_type": "code",
      "execution_count": null,
      "metadata": {
        "colab": {
          "base_uri": "https://localhost:8080/"
        },
        "id": "Ng8yXnJa6h-E",
        "outputId": "226d3a44-580d-4972-84b5-97f8072adf97"
      },
      "outputs": [
        {
          "output_type": "stream",
          "name": "stdout",
          "text": [
            "unzip:  cannot find or open New AOI 2018-2024-20251014T043114Z-1-001.zip, New AOI 2018-2024-20251014T043114Z-1-001.zip.zip or New AOI 2018-2024-20251014T043114Z-1-001.zip.ZIP.\n",
            "training_patches_32tile\n"
          ]
        }
      ],
      "source": [
        "from zipfile import ZipFile\n",
        "import os\n",
        "\n",
        "# Mount Google Drive if needed\n",
        "# from google.colab import drive\n",
        "# drive.mount('/content/drive')\n",
        "\n",
        "# Upload or copy your zip files into Colab working directory first\n",
        "!unzip -q \"training_patches_64tile.zip\" -d \"training_data\"\n",
        "!unzip -q \"New AOI 2018-2024-20251014T043114Z-1-001.zip\" -d \"new_aoi\"\n",
        "!unzip -q \"composites-20251014T112925Z-1-001.zip\" -d \"composites\"\n",
        "!unzip -q \"RGB Composites-20251014T112925Z-1-001.zip\" -d \"rgb_composites\"\n",
        "\n",
        "\n",
        "\n",
        "\n",
        "\n",
        "# Inspect the folder structure\n",
        "!ls training_data\n",
        "\n"
      ]
    },
    {
      "cell_type": "code",
      "source": [
        "!ls composites/composites/"
      ],
      "metadata": {
        "id": "LDp5NIJnfwhc",
        "colab": {
          "base_uri": "https://localhost:8080/"
        },
        "outputId": "3be34db3-889e-4d65-ec3a-fb60a57f3947"
      },
      "execution_count": null,
      "outputs": [
        {
          "output_type": "stream",
          "name": "stdout",
          "text": [
            "00_Landsat7_Composite_C2_1999_2000_summer.tif\n",
            "01_Landsat7_Composite_C2_2000_2001_summer.tif\n",
            "02_Landsat7_Composite_C2_2001_2002_summer.tif\n",
            "03_Landsat7_Composite_C2_2002_2003_summer.tif\n",
            "04_Landsat5_Composite_C2_2003_2004_summer.tif\n",
            "05_Landsat5_Composite_C2_2004_2005_summer.tif\n",
            "06_Landsat5_Composite_C2_2005_2006_summer.tif\n",
            "07_Landsat5_Composite_C2_2006_2007_summer.tif\n",
            "08_Landsat5_Composite_C2_2007_2008_summer.tif\n",
            "09_Landsat5_Composite_C2_2008_2009_summer.tif\n",
            "10_Landsat5_Composite_C2_2009_2010_summer.tif\n",
            "11_Landsat5_Composite_C2_2010_2011_summer.tif\n",
            "12_Landsat5_Composite_C2_2011_2012_summer.tif\n",
            "14_L8_Composite_2014_2015.tif\n",
            "15_L8_Composite_2015_2016.tif\n",
            "16_L8_Composite_2016_2017.tif\n",
            "17_L8_Composite_2017_2018.tif\n",
            "18_L8_Composite_2018_2019.tif\n",
            "19_L8_Composite_2019_2020.tif\n",
            "20_L8_Composite_2020_2021.tif\n",
            "21_L8_Composite_2021_2022.tif\n",
            "22_L8_Composite_2022_2023.tif\n",
            "23_L8_Composite_2023_2024.tif\n"
          ]
        }
      ]
    },
    {
      "cell_type": "code",
      "source": [
        "!ls rgb_composites/RGB\\ Composites"
      ],
      "metadata": {
        "id": "M0J3AWirfzA0",
        "colab": {
          "base_uri": "https://localhost:8080/"
        },
        "outputId": "b41c0082-c740-4812-a85f-efb469beb08c"
      },
      "execution_count": null,
      "outputs": [
        {
          "output_type": "stream",
          "name": "stdout",
          "text": [
            "00_Landsat7_RGB_Composite_C2_1999_2000_summer.tif\n",
            "01_Landsat7_RGB_Composite_C2_2000_2001_summer.tif\n",
            "02_Landsat7_RGB_Composite_C2_2001_2002_summer.tif\n",
            "03_Landsat7_RGB_Composite_C2_2002_2003_summer.tif\n",
            "04_Landsat5_RGB_Composite_C2_2003_2004_summer.tif\n",
            "05_Landsat5_RGB_Composite_C2_2004_2005_summer.tif\n",
            "06_Landsat5_RGB_Composite_C2_2005_2006_summer.tif\n",
            "07_Landsat5_RGB_Composite_C2_2006_2007_summer.tif\n",
            "08_Landsat5_RGB_Composite_C2_2007_2008_summer.tif\n",
            "09_Landsat5_RGB_Composite_C2_2008_2009_summer.tif\n",
            "10_Landsat5_RGB_Composite_C2_2009_2010_summer.tif\n",
            "11_Landsat5_RGB_Composite_C2_2010_2011_summer.tif\n",
            "12_Landsat5_RGB_Composite_C2_2011_2012_summer.tif\n"
          ]
        }
      ]
    },
    {
      "cell_type": "code",
      "source": [
        "!pip install rasterio"
      ],
      "metadata": {
        "id": "C865VtHy8o__",
        "colab": {
          "base_uri": "https://localhost:8080/"
        },
        "outputId": "29cb4907-9875-4e41-d050-21cccef6e44c"
      },
      "execution_count": null,
      "outputs": [
        {
          "output_type": "stream",
          "name": "stdout",
          "text": [
            "Collecting rasterio\n",
            "  Downloading rasterio-1.4.3-cp312-cp312-manylinux_2_17_x86_64.manylinux2014_x86_64.whl.metadata (9.1 kB)\n",
            "Collecting affine (from rasterio)\n",
            "  Downloading affine-2.4.0-py3-none-any.whl.metadata (4.0 kB)\n",
            "Requirement already satisfied: attrs in /usr/local/lib/python3.12/dist-packages (from rasterio) (25.4.0)\n",
            "Requirement already satisfied: certifi in /usr/local/lib/python3.12/dist-packages (from rasterio) (2025.10.5)\n",
            "Requirement already satisfied: click>=4.0 in /usr/local/lib/python3.12/dist-packages (from rasterio) (8.3.0)\n",
            "Collecting cligj>=0.5 (from rasterio)\n",
            "  Downloading cligj-0.7.2-py3-none-any.whl.metadata (5.0 kB)\n",
            "Requirement already satisfied: numpy>=1.24 in /usr/local/lib/python3.12/dist-packages (from rasterio) (2.0.2)\n",
            "Collecting click-plugins (from rasterio)\n",
            "  Downloading click_plugins-1.1.1.2-py2.py3-none-any.whl.metadata (6.5 kB)\n",
            "Requirement already satisfied: pyparsing in /usr/local/lib/python3.12/dist-packages (from rasterio) (3.2.5)\n",
            "Downloading rasterio-1.4.3-cp312-cp312-manylinux_2_17_x86_64.manylinux2014_x86_64.whl (22.3 MB)\n",
            "\u001b[2K   \u001b[90m━━━━━━━━━━━━━━━━━━━━━━━━━━━━━━━━━━━━━━━━\u001b[0m \u001b[32m22.3/22.3 MB\u001b[0m \u001b[31m21.0 MB/s\u001b[0m eta \u001b[36m0:00:00\u001b[0m\n",
            "\u001b[?25hDownloading cligj-0.7.2-py3-none-any.whl (7.1 kB)\n",
            "Downloading affine-2.4.0-py3-none-any.whl (15 kB)\n",
            "Downloading click_plugins-1.1.1.2-py2.py3-none-any.whl (11 kB)\n",
            "Installing collected packages: cligj, click-plugins, affine, rasterio\n",
            "Successfully installed affine-2.4.0 click-plugins-1.1.1.2 cligj-0.7.2 rasterio-1.4.3\n"
          ]
        }
      ]
    },
    {
      "cell_type": "code",
      "source": [
        "import rasterio\n",
        "import numpy as np\n",
        "import glob\n",
        "from sklearn.model_selection import train_test_split\n",
        "from sklearn.metrics import classification_report, confusion_matrix\n",
        "from xgboost import XGBClassifier\n",
        "\n",
        "# Paths\n",
        "img_dir = \"training_data/training_patches_32tile/images\"\n",
        "lab_dir = \"training_data/training_patches_32tile/labels\"\n",
        "\n",
        "# List all image tiles\n",
        "img_files = sorted(glob.glob(f\"{img_dir}/*.tif\"))\n",
        "lab_files = sorted(glob.glob(f\"{lab_dir}/*.tif\"))\n",
        "\n",
        "print(f\"{len(img_files)} image tiles, {len(lab_files)} label tiles\")\n",
        "\n",
        "X_list, y_list = [], []\n",
        "\n",
        "# Loop through each patch pair\n",
        "for img_fp, lab_fp in zip(img_files, lab_files):\n",
        "    with rasterio.open(img_fp) as src:\n",
        "        img = src.read()  # shape: (bands, height, width)\n",
        "    with rasterio.open(lab_fp) as src:\n",
        "        lab = src.read(1)  # single band\n",
        "\n",
        "    # Reshape\n",
        "    n_bands, h, w = img.shape\n",
        "    img_2d = img.reshape(n_bands, h*w).T   # shape (pixels, bands)\n",
        "    lab_1d = lab.flatten()\n",
        "\n",
        "    # Remove nodata pixels (often value 255 or 0 for unlabeled)\n",
        "    mask = (lab_1d >= 0)\n",
        "    X_list.append(img_2d[mask])\n",
        "    y_list.append(lab_1d[mask])\n",
        "\n",
        "# Combine all tiles\n",
        "X = np.vstack(X_list)\n",
        "y = np.concatenate(y_list)\n",
        "\n",
        "print(\"Feature matrix shape:\", X.shape)\n",
        "print(\"Label vector shape:\", y.shape)\n",
        "np.unique(y, return_counts=True)\n"
      ],
      "metadata": {
        "id": "avJkNczJ8frj",
        "colab": {
          "base_uri": "https://localhost:8080/"
        },
        "outputId": "2017668e-ac14-4a8d-e5e3-45eec80839e8"
      },
      "execution_count": null,
      "outputs": [
        {
          "output_type": "stream",
          "name": "stdout",
          "text": [
            "71 image tiles, 71 label tiles\n",
            "Feature matrix shape: (290816, 4)\n",
            "Label vector shape: (290816,)\n"
          ]
        },
        {
          "output_type": "execute_result",
          "data": {
            "text/plain": [
              "(array([0, 1, 2, 3, 4, 5], dtype=uint16),\n",
              " array([272750,    480,    542,   7010,   8066,   1968]))"
            ]
          },
          "metadata": {},
          "execution_count": 5
        }
      ]
    },
    {
      "cell_type": "code",
      "source": [
        "## Train XGBoost Model\n",
        "\n",
        "# Split into train/test\n",
        "X_train, X_test, y_train, y_test = train_test_split(X, y, test_size=0.2, random_state=42, stratify=y)\n",
        "\n",
        "# Train model\n",
        "model = XGBClassifier(\n",
        "    n_estimators=200,\n",
        "    learning_rate=0.1,\n",
        "    max_depth=6,\n",
        "    subsample=0.8,\n",
        "    colsample_bytree=0.8,\n",
        "    objective='binary:logistic',\n",
        "    eval_metric='logloss'\n",
        ")\n",
        "model.fit(X_train, y_train)\n",
        "\n",
        "# Evaluate\n",
        "y_pred = model.predict(X_test)\n",
        "print(classification_report(y_test, y_pred))\n",
        "print(confusion_matrix(y_test, y_pred))\n"
      ],
      "metadata": {
        "id": "741DKq7P8hNk",
        "colab": {
          "base_uri": "https://localhost:8080/"
        },
        "outputId": "94a1d0d9-9839-4dc2-cc14-b3c20cf9a634"
      },
      "execution_count": null,
      "outputs": [
        {
          "output_type": "stream",
          "name": "stdout",
          "text": [
            "              precision    recall  f1-score   support\n",
            "\n",
            "           0       0.96      1.00      0.98     54551\n",
            "           1       0.96      0.48      0.64        96\n",
            "           2       0.93      0.47      0.63       108\n",
            "           3       0.91      0.16      0.27      1402\n",
            "           4       0.89      0.36      0.51      1613\n",
            "           5       0.95      0.48      0.64       394\n",
            "\n",
            "    accuracy                           0.95     58164\n",
            "   macro avg       0.93      0.49      0.61     58164\n",
            "weighted avg       0.95      0.95      0.94     58164\n",
            "\n",
            "[[54441     2     4    22    72    10]\n",
            " [   50    46     0     0     0     0]\n",
            " [   57     0    51     0     0     0]\n",
            " [ 1180     0     0   222     0     0]\n",
            " [ 1038     0     0     0   575     0]\n",
            " [  206     0     0     0     0   188]]\n"
          ]
        }
      ]
    },
    {
      "cell_type": "code",
      "source": [
        "import rasterio\n",
        "import numpy as np\n",
        "import matplotlib.pyplot as plt\n",
        "from matplotlib.colors import ListedColormap, BoundaryNorm\n",
        "import folium\n",
        "import imageio.v2 as iio\n",
        "from pathlib import Path\n",
        "\n",
        "# Step 1: Define the RGB image normalization function\n",
        "def rgb_normalize(rgb_path):\n",
        "    with rasterio.open(rgb_path) as src:\n",
        "        rgb = src.read([3, 2, 1]).astype(float)  # Red, Green, Blue (Landsat RGB)\n",
        "\n",
        "    for i in range(3):\n",
        "        band = rgb[i]\n",
        "        finite = np.isfinite(band)\n",
        "        if not finite.any():\n",
        "            continue\n",
        "        lo, hi = np.percentile(band[finite], (2, 98))  # Normalize using 2nd and 98th percentiles\n",
        "        if hi > lo:\n",
        "            band = np.clip((band - lo) / (hi - lo), 0, 1)\n",
        "        else:\n",
        "            band = np.zeros_like(band)\n",
        "        rgb[i] = band\n",
        "\n",
        "    rgb = np.moveaxis(rgb, 0, -1)\n",
        "    return rgb\n",
        "\n",
        "# Step 2: Define the static overlay function to combine the RGB image with the prediction mask\n",
        "def make_static_overlay(rgb_path: Path, pred_path: Path, out_png: Path):\n",
        "    with rasterio.open(pred_path) as ds:\n",
        "        pred = ds.read(1)  # (H, W)\n",
        "\n",
        "    rgb = rgb_normalize(rgb_path)\n",
        "\n",
        "    new_h, new_w = rgb.shape[0], rgb.shape[1]\n",
        "    ys = (np.linspace(0, pred.shape[0] - 1, new_h)).astype(int)\n",
        "    xs = (np.linspace(0, pred.shape[1] - 1, new_w)).astype(int)\n",
        "    pred_small = pred[ys][:, xs]\n",
        "\n",
        "    cmap = ListedColormap([(0, 0, 0, 0), (1, 1, 0, 0.6), (0, 1, 0, 0.6)])  # Transparent, Yellow, Green\n",
        "    norm = BoundaryNorm([0, 1, 2], cmap.N)\n",
        "\n",
        "    plt.figure(figsize=(9, 9))\n",
        "    plt.imshow(rgb)\n",
        "    plt.imshow(pred_small, cmap=cmap, norm=norm)\n",
        "    plt.title(\"Seagrass prediction (1=sparse, 2=dense)\")\n",
        "    plt.axis(\"off\")\n",
        "    plt.tight_layout()\n",
        "\n",
        "    plt.savefig(out_png, dpi=180)\n",
        "    plt.close()\n",
        "    print(f\"Saved static overlay: {out_png}\")\n",
        "\n",
        "# Step 3: Define the Folium map generation function\n",
        "def make_folium_map(pred_path: Path, html_out: Path):\n",
        "    with rasterio.open(pred_path) as ds:\n",
        "        pred = ds.read(1)  # Prediction mask (H, W)\n",
        "        h, w = pred.shape\n",
        "        rgba = np.zeros((h, w, 4), dtype=np.uint8)\n",
        "        rgba[pred == 1] = np.array([255, 255, 0, 140], dtype=np.uint8)  # Sparse (Yellow)\n",
        "        rgba[pred == 2] = np.array([0, 255, 0, 140], dtype=np.uint8)    # Dense (Green)\n",
        "\n",
        "        overlay_png = html_out.with_suffix(\".overlay.png\")  # Ensure `html_out` is a Path object\n",
        "        iio.imwrite(overlay_png, rgba)\n",
        "\n",
        "    try:\n",
        "        src_crs = ds.crs.to_string() if ds.crs else \"EPSG:4326\"\n",
        "        minx, miny, maxx, maxy = ds.bounds\n",
        "        (wgs_minx, wgs_miny, wgs_maxx, wgs_maxy) = transform_bounds(src_crs, \"EPSG:4326\", minx, miny, maxx, maxy)\n",
        "        bounds = [[wgs_miny, wgs_minx], [wgs_maxy, wgs_maxx]]\n",
        "        center = [(bounds[0][0] + bounds[1][0]) / 2, (bounds[0][1] + bounds[1][1]) / 2]\n",
        "    except Exception as e:\n",
        "        print(f\"Could not transform bounds, using fallback center. Error: {e}\")\n",
        "        bounds = [[-37.0, 174.0], [-36.0, 175.0]]  # Default center for Auckland\n",
        "        center = [-36.5, 174.5]\n",
        "\n",
        "    m = folium.Map(location=center, zoom_start=13, control_scale=True)\n",
        "    folium.raster_layers.ImageOverlay(\n",
        "        name=\"Seagrass Prediction\",\n",
        "        image=str(overlay_png),\n",
        "        bounds=bounds,\n",
        "        opacity=0.7,\n",
        "        interactive=True,\n",
        "        cross_origin=False,\n",
        "        zindex=2\n",
        "    ).add_to(m)\n",
        "    folium.LayerControl().add_to(m)\n",
        "    m.save(html_out)\n",
        "\n",
        "    print(f\"Interactive map saved: {html_out}\")\n",
        "\n",
        "# Step 4: Apply the above functions to each composite and prediction\n",
        "composite_dir = \"composites/composites\"\n",
        "out_dir = \"xgb_predictions\"\n",
        "os.makedirs(out_dir, exist_ok=True)\n",
        "\n",
        "# Get the list of Landsat 8 composites to classify\n",
        "files = sorted(glob.glob(f\"{composite_dir}/1*_L8_Composite_*.tif\"))\n",
        "files_2 = sorted(glob.glob(f\"{composite_dir}/2*_L8_Composite_*.tif\"))\n",
        "files.extend(files_2)\n",
        "print(f\"Found {len(files)} Landsat 8 composites\")\n",
        "\n",
        "# Loop through each composite and generate overlays/maps\n",
        "for composite_path in files:\n",
        "    name = os.path.basename(composite_path)\n",
        "    year_label = name.split(\"_\")[-2] + \"_\" + name.split(\"_\")[-1].split(\".\")[0]\n",
        "    print(f\"\\n🌿 Processing {year_label}...\")\n",
        "\n",
        "    with rasterio.open(composite_path) as src:\n",
        "        img = src.read([4, 3, 2, 5]) if src.count >= 5 else src.read([1, 2, 3, 4])\n",
        "        profile = src.profile\n",
        "        h, w = img.shape[1], img.shape[2]\n",
        "\n",
        "    img_flat = img.reshape(img.shape[0], h * w).T\n",
        "    mask = np.all(np.isfinite(img_flat), axis=1)\n",
        "\n",
        "    pred_flat = np.zeros(h * w, dtype=np.uint8)\n",
        "    pred_flat[mask] = model.predict(img_flat[mask])\n",
        "    pred_raster = pred_flat.reshape(h, w)\n",
        "\n",
        "    out_tif = f\"{out_dir}/xgb_pred_{year_label}.tif\"\n",
        "    profile.update(dtype=rasterio.uint8, count=1)\n",
        "    with rasterio.open(out_tif, \"w\", **profile) as dst:\n",
        "        dst.write(pred_raster, 1)\n",
        "\n",
        "    print(f\"✅ Saved classification: {out_tif}\")\n",
        "\n",
        "    # Normalize RGB image and make overlay\n",
        "    rgb = np.moveaxis(img[[0, 1, 2]], 0, -1).astype(float)\n",
        "    rgb = np.clip(rgb / np.percentile(rgb, 99), 0, 1)\n",
        "\n",
        "    # Save static overlay\n",
        "    out_png = f\"{out_dir}/{year_label}_overlay.png\"\n",
        "    try:\n",
        "        make_static_overlay(composite_path, out_tif, out_png)\n",
        "        print(f\"[OK] Static overlay → {out_png}\")\n",
        "    except Exception as e:\n",
        "        print(f\"[WARN] Static overlay failed for {year_label}: {e}\")\n",
        "\n",
        "    # Save Folium interactive map\n",
        "    html_out = f\"{out_dir}/{year_label}_map.html\"\n",
        "    try:\n",
        "        make_folium_map(out_tif, html_out)\n",
        "        print(f\"[OK] Map → {html_out}\")\n",
        "    except Exception as e:\n",
        "        print(f\"[WARN] Map failed for {year_label}: {e}\")\n"
      ],
      "metadata": {
        "colab": {
          "base_uri": "https://localhost:8080/"
        },
        "id": "tcPNOxBvL5eI",
        "outputId": "42f7c792-8427-47fa-db17-95e195325c47"
      },
      "execution_count": null,
      "outputs": [
        {
          "output_type": "stream",
          "name": "stdout",
          "text": [
            "Found 10 Landsat 8 composites\n",
            "\n",
            "🌿 Processing 2014_2015...\n",
            "✅ Saved classification: xgb_predictions/xgb_pred_2014_2015.tif\n",
            "Saved static overlay: xgb_predictions/2014_2015_overlay.png\n",
            "[OK] Static overlay → xgb_predictions/2014_2015_overlay.png\n",
            "[WARN] Map failed for 2014_2015: 'str' object has no attribute 'with_suffix'\n",
            "\n",
            "🌿 Processing 2015_2016...\n",
            "✅ Saved classification: xgb_predictions/xgb_pred_2015_2016.tif\n",
            "Saved static overlay: xgb_predictions/2015_2016_overlay.png\n",
            "[OK] Static overlay → xgb_predictions/2015_2016_overlay.png\n",
            "[WARN] Map failed for 2015_2016: 'str' object has no attribute 'with_suffix'\n",
            "\n",
            "🌿 Processing 2016_2017...\n",
            "✅ Saved classification: xgb_predictions/xgb_pred_2016_2017.tif\n",
            "Saved static overlay: xgb_predictions/2016_2017_overlay.png\n",
            "[OK] Static overlay → xgb_predictions/2016_2017_overlay.png\n",
            "[WARN] Map failed for 2016_2017: 'str' object has no attribute 'with_suffix'\n",
            "\n",
            "🌿 Processing 2017_2018...\n",
            "✅ Saved classification: xgb_predictions/xgb_pred_2017_2018.tif\n",
            "Saved static overlay: xgb_predictions/2017_2018_overlay.png\n",
            "[OK] Static overlay → xgb_predictions/2017_2018_overlay.png\n",
            "[WARN] Map failed for 2017_2018: 'str' object has no attribute 'with_suffix'\n",
            "\n",
            "🌿 Processing 2018_2019...\n",
            "✅ Saved classification: xgb_predictions/xgb_pred_2018_2019.tif\n",
            "Saved static overlay: xgb_predictions/2018_2019_overlay.png\n",
            "[OK] Static overlay → xgb_predictions/2018_2019_overlay.png\n",
            "[WARN] Map failed for 2018_2019: 'str' object has no attribute 'with_suffix'\n",
            "\n",
            "🌿 Processing 2019_2020...\n",
            "✅ Saved classification: xgb_predictions/xgb_pred_2019_2020.tif\n",
            "Saved static overlay: xgb_predictions/2019_2020_overlay.png\n",
            "[OK] Static overlay → xgb_predictions/2019_2020_overlay.png\n",
            "[WARN] Map failed for 2019_2020: 'str' object has no attribute 'with_suffix'\n",
            "\n",
            "🌿 Processing 2020_2021...\n",
            "✅ Saved classification: xgb_predictions/xgb_pred_2020_2021.tif\n",
            "Saved static overlay: xgb_predictions/2020_2021_overlay.png\n",
            "[OK] Static overlay → xgb_predictions/2020_2021_overlay.png\n",
            "[WARN] Map failed for 2020_2021: 'str' object has no attribute 'with_suffix'\n",
            "\n",
            "🌿 Processing 2021_2022...\n",
            "✅ Saved classification: xgb_predictions/xgb_pred_2021_2022.tif\n",
            "Saved static overlay: xgb_predictions/2021_2022_overlay.png\n",
            "[OK] Static overlay → xgb_predictions/2021_2022_overlay.png\n",
            "[WARN] Map failed for 2021_2022: 'str' object has no attribute 'with_suffix'\n",
            "\n",
            "🌿 Processing 2022_2023...\n",
            "✅ Saved classification: xgb_predictions/xgb_pred_2022_2023.tif\n",
            "Saved static overlay: xgb_predictions/2022_2023_overlay.png\n",
            "[OK] Static overlay → xgb_predictions/2022_2023_overlay.png\n",
            "[WARN] Map failed for 2022_2023: 'str' object has no attribute 'with_suffix'\n",
            "\n",
            "🌿 Processing 2023_2024...\n",
            "✅ Saved classification: xgb_predictions/xgb_pred_2023_2024.tif\n",
            "Saved static overlay: xgb_predictions/2023_2024_overlay.png\n",
            "[OK] Static overlay → xgb_predictions/2023_2024_overlay.png\n",
            "[WARN] Map failed for 2023_2024: 'str' object has no attribute 'with_suffix'\n"
          ]
        }
      ]
    }
  ]
}